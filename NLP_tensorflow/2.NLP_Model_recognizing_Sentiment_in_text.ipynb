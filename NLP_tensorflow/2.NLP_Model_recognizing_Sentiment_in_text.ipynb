{
 "cells": [
  {
   "cell_type": "code",
   "execution_count": 1,
   "id": "a18482e0",
   "metadata": {},
   "outputs": [],
   "source": [
    "import json"
   ]
  },
  {
   "cell_type": "code",
   "execution_count": 2,
   "id": "7e5643ce",
   "metadata": {
    "scrolled": true
   },
   "outputs": [],
   "source": [
    "datastore=[]\n",
    "for line in open(\"Sarcasm_Headlines_Dataset.json\",'r'):\n",
    "    datastore.append(json.loads(line))"
   ]
  },
  {
   "cell_type": "code",
   "execution_count": 3,
   "id": "a2cde610",
   "metadata": {},
   "outputs": [
    {
     "data": {
      "text/plain": [
       "[{'article_link': 'https://www.huffingtonpost.com/entry/versace-black-code_us_5861fbefe4b0de3a08f600d5',\n",
       "  'headline': \"former versace store clerk sues over secret 'black code' for minority shoppers\",\n",
       "  'is_sarcastic': 0},\n",
       " {'article_link': 'https://www.huffingtonpost.com/entry/roseanne-revival-review_us_5ab3a497e4b054d118e04365',\n",
       "  'headline': \"the 'roseanne' revival catches up to our thorny political mood, for better and worse\",\n",
       "  'is_sarcastic': 0}]"
      ]
     },
     "execution_count": 3,
     "metadata": {},
     "output_type": "execute_result"
    }
   ],
   "source": [
    "datastore[0:2]"
   ]
  },
  {
   "cell_type": "markdown",
   "id": "93288a23",
   "metadata": {},
   "source": [
    "### DATASET Information\n",
    "\n",
    "- **`is_sarcastic:`** 1 if the record is sarcastic otherwise.\n",
    "- **`headline:`** the headline of the news article\n",
    "- **`article_link:`** link to the original news article. Useful in collecting supplementary data\n",
    "\n",
    "- we need to convert data stored in json format to python format for training, i.e JSON element need to convert into python list element."
   ]
  },
  {
   "cell_type": "code",
   "execution_count": 4,
   "id": "9d49e1ea",
   "metadata": {},
   "outputs": [],
   "source": [
    "#Creating 3 list out of the data\n",
    "sentences=[]\n",
    "labels=[]\n",
    "urls=[]"
   ]
  },
  {
   "cell_type": "code",
   "execution_count": 5,
   "id": "b57e3628",
   "metadata": {},
   "outputs": [],
   "source": [
    "for item in datastore:\n",
    "    sentences.append(item['headline'])\n",
    "    labels.append(item['is_sarcastic'])\n",
    "    urls.append(item['article_link'])"
   ]
  },
  {
   "cell_type": "markdown",
   "id": "6e056f16",
   "metadata": {},
   "source": [
    "# Pre-Processing"
   ]
  },
  {
   "cell_type": "code",
   "execution_count": 6,
   "id": "571c8d85",
   "metadata": {},
   "outputs": [],
   "source": [
    "import tensorflow as tf\n",
    "from tensorflow.keras.preprocessing.text import Tokenizer\n",
    "from tensorflow.keras.preprocessing.sequence import pad_sequences"
   ]
  },
  {
   "cell_type": "code",
   "execution_count": 7,
   "id": "111e7e2e",
   "metadata": {},
   "outputs": [],
   "source": [
    "tokenizer = Tokenizer(oov_token=\"<oov>\")\n",
    "\n",
    "#creating tokens for every word in the corpus\n",
    "tokenizer.fit_on_texts(sentences)         #sentences list is passed, extracted from json datastore list\n",
    "word_index=tokenizer.word_index"
   ]
  },
  {
   "cell_type": "code",
   "execution_count": 8,
   "id": "5646242d",
   "metadata": {},
   "outputs": [],
   "source": [
    "#turning sentences sequences of tokens and pad them to the same length\n",
    "sequences = tokenizer.texts_to_sequences(sentences)\n",
    "padded = pad_sequences(sequences, padding = 'post')"
   ]
  },
  {
   "cell_type": "code",
   "execution_count": 9,
   "id": "c8c98023",
   "metadata": {},
   "outputs": [],
   "source": [
    "#print(word_index)"
   ]
  },
  {
   "cell_type": "code",
   "execution_count": 10,
   "id": "9950443f",
   "metadata": {},
   "outputs": [
    {
     "name": "stdout",
     "output_type": "stream",
     "text": [
      "[[308, 15115, 679, 3337, 2298, 48, 382, 2576, 15116, 6, 2577, 8434], [4, 8435, 3338, 2746, 22, 2, 166, 8436, 416, 3112, 6, 258, 9, 1002]]\n"
     ]
    }
   ],
   "source": [
    "print(sequences[0:2])"
   ]
  },
  {
   "cell_type": "code",
   "execution_count": 11,
   "id": "e721dd2a",
   "metadata": {},
   "outputs": [
    {
     "name": "stdout",
     "output_type": "stream",
     "text": [
      "[[  308 15115   679  3337  2298    48   382  2576 15116     6  2577  8434\n",
      "      0     0     0     0     0     0     0     0     0     0     0     0\n",
      "      0     0     0     0     0     0     0     0     0     0     0     0\n",
      "      0     0     0     0]\n",
      " [    4  8435  3338  2746    22     2   166  8436   416  3112     6   258\n",
      "      9  1002     0     0     0     0     0     0     0     0     0     0\n",
      "      0     0     0     0     0     0     0     0     0     0     0     0\n",
      "      0     0     0     0]]\n"
     ]
    }
   ],
   "source": [
    "print(padded[0:2])"
   ]
  },
  {
   "cell_type": "code",
   "execution_count": 12,
   "id": "2e401b82",
   "metadata": {},
   "outputs": [
    {
     "name": "stdout",
     "output_type": "stream",
     "text": [
      "(26709, 40)\n"
     ]
    }
   ],
   "source": [
    "#shape of the corpus\n",
    "print(padded.shape)\n",
    "\n",
    "#26709 sentences each with 40 tokens"
   ]
  },
  {
   "cell_type": "markdown",
   "id": "e074abe9",
   "metadata": {},
   "source": [
    "# Model"
   ]
  },
  {
   "cell_type": "code",
   "execution_count": 13,
   "id": "7175827a",
   "metadata": {},
   "outputs": [],
   "source": [
    "vocab_size = 10000\n",
    "embedding_dim = 16\n",
    "max_length = 100\n",
    "trunc_type='post'\n",
    "padding_type='post'\n",
    "oov_tok = \"<OOV>\"\n",
    "training_size = 20000"
   ]
  },
  {
   "cell_type": "code",
   "execution_count": 14,
   "id": "377965d3",
   "metadata": {},
   "outputs": [],
   "source": [
    "#### slicing sequences for training and testing purpose\n",
    "#### let suppose training_size = 20,000\n",
    "\n",
    "#Implementation\n",
    "\n",
    "training_sentences = sentences[0:training_size]  #initial 20,000 sentence used for training purpose\n",
    "testing_sentences = sentences[training_size:]    #remaining sentences used for testing purpose\n",
    "\n",
    "training_labels = labels[0:training_size]       #labels list - is sarcastic = 1,0\n",
    "testing_labels = labels[training_size:]\n"
   ]
  },
  {
   "cell_type": "markdown",
   "id": "03a970f0",
   "metadata": {},
   "source": [
    "# Problem\n",
    "- we use tokenizer to create a word index of every word in the set, but to test it effectiveness we need to **ensure that, NN only sees the training set and never sees the test data**\n",
    "\n",
    "\n",
    "### So Rewriting code for Implementation"
   ]
  },
  {
   "cell_type": "code",
   "execution_count": 15,
   "id": "d74e9ad1",
   "metadata": {},
   "outputs": [],
   "source": [
    "tokenizer = Tokenizer(num_words=vocab_size, oov_token=oov_tok)\n",
    "tokenizer.fit_on_texts(training_sentences)   #fitting just on the training sentences instead on entire corpus"
   ]
  },
  {
   "cell_type": "code",
   "execution_count": 16,
   "id": "bbf0b884",
   "metadata": {},
   "outputs": [],
   "source": [
    "word_index = tokenizer.word_index"
   ]
  },
  {
   "cell_type": "code",
   "execution_count": 17,
   "id": "01e3d5ec",
   "metadata": {},
   "outputs": [],
   "source": [
    "training_sequences = tokenizer.texts_to_sequences(training_sentences)\n",
    "training_padded = pad_sequences(training_sequences, maxlen=max_length,\n",
    "                               padding=padding_type,truncating=trunc_type)"
   ]
  },
  {
   "cell_type": "code",
   "execution_count": 18,
   "id": "3e5f897f",
   "metadata": {},
   "outputs": [],
   "source": [
    "testing_sequences = tokenizer.texts_to_sequences(testing_sentences)\n",
    "testing_padded = pad_sequences(testing_sequences, maxlen=max_length,\n",
    "                              padding=padding_type, truncating=trunc_type)\n"
   ]
  },
  {
   "cell_type": "code",
   "execution_count": null,
   "id": "d1e1f7f0",
   "metadata": {},
   "outputs": [],
   "source": [
    "### How do we get the meaning from the words representation in numbers\n",
    "### How do we determine whether the word is sarcastic by using number representation\n",
    "\n",
    "##### Using concept of WORD_EMBEDDING\n",
    "<img src = \"word_embedding.png\" align=\"left\" style=\"width:400px; height:250px\"/>"
   ]
  },
  {
   "cell_type": "code",
   "execution_count": 19,
   "id": "0002a4a9",
   "metadata": {},
   "outputs": [],
   "source": [
    "# Need this block to get it to work with TensorFlow 2.x\n",
    "import numpy as np\n",
    "training_padded = np.array(training_padded)\n",
    "training_labels = np.array(training_labels)\n",
    "testing_padded = np.array(testing_padded)\n",
    "testing_labels = np.array(testing_labels)"
   ]
  },
  {
   "cell_type": "code",
   "execution_count": 20,
   "id": "ea52f484",
   "metadata": {},
   "outputs": [],
   "source": [
    "#Top layer is an embedding_layer\n",
    "#direction of each word will be learned epoch by epoch\n",
    "#pool layer = GlobalAveragePoodling - namely adding u the vectors\n",
    "\n",
    "model = tf.keras.Sequential([\n",
    "    tf.keras.layers.Embedding(vocab_size, embedding_dim, input_length = max_length),\n",
    "    tf.keras.layers.GlobalAveragePooling1D(),\n",
    "    tf.keras.layers.Dense(24, activation='relu'),\n",
    "    tf.keras.layers.Dense(1, activation='sigmoid')\n",
    "])"
   ]
  },
  {
   "cell_type": "code",
   "execution_count": 21,
   "id": "3f384744",
   "metadata": {},
   "outputs": [],
   "source": [
    "model.compile(loss='binary_crossentropy',optimizer='adam',metrics=['accuracy'])"
   ]
  },
  {
   "cell_type": "code",
   "execution_count": 22,
   "id": "e04cf00a",
   "metadata": {},
   "outputs": [
    {
     "name": "stdout",
     "output_type": "stream",
     "text": [
      "Model: \"sequential\"\n",
      "_________________________________________________________________\n",
      " Layer (type)                Output Shape              Param #   \n",
      "=================================================================\n",
      " embedding (Embedding)       (None, 100, 16)           160000    \n",
      "                                                                 \n",
      " global_average_pooling1d (G  (None, 16)               0         \n",
      " lobalAveragePooling1D)                                          \n",
      "                                                                 \n",
      " dense (Dense)               (None, 24)                408       \n",
      "                                                                 \n",
      " dense_1 (Dense)             (None, 1)                 25        \n",
      "                                                                 \n",
      "=================================================================\n",
      "Total params: 160,433\n",
      "Trainable params: 160,433\n",
      "Non-trainable params: 0\n",
      "_________________________________________________________________\n"
     ]
    }
   ],
   "source": [
    "model.summary()"
   ]
  },
  {
   "cell_type": "code",
   "execution_count": 23,
   "id": "131ca82b",
   "metadata": {},
   "outputs": [],
   "source": [
    "num_epochs = 30"
   ]
  },
  {
   "cell_type": "code",
   "execution_count": 24,
   "id": "60d6ebaf",
   "metadata": {},
   "outputs": [
    {
     "name": "stdout",
     "output_type": "stream",
     "text": [
      "Epoch 1/30\n",
      "625/625 - 6s - loss: 0.6728 - accuracy: 0.5659 - val_loss: 0.6257 - val_accuracy: 0.7284 - 6s/epoch - 10ms/step\n",
      "Epoch 2/30\n",
      "625/625 - 4s - loss: 0.4612 - accuracy: 0.8116 - val_loss: 0.3883 - val_accuracy: 0.8390 - 4s/epoch - 7ms/step\n",
      "Epoch 3/30\n",
      "625/625 - 4s - loss: 0.3141 - accuracy: 0.8740 - val_loss: 0.3543 - val_accuracy: 0.8505 - 4s/epoch - 6ms/step\n",
      "Epoch 4/30\n",
      "625/625 - 4s - loss: 0.2593 - accuracy: 0.8978 - val_loss: 0.3443 - val_accuracy: 0.8533 - 4s/epoch - 7ms/step\n",
      "Epoch 5/30\n",
      "625/625 - 4s - loss: 0.2240 - accuracy: 0.9117 - val_loss: 0.3449 - val_accuracy: 0.8551 - 4s/epoch - 6ms/step\n",
      "Epoch 6/30\n",
      "625/625 - 4s - loss: 0.1957 - accuracy: 0.9248 - val_loss: 0.3514 - val_accuracy: 0.8538 - 4s/epoch - 7ms/step\n",
      "Epoch 7/30\n",
      "625/625 - 4s - loss: 0.1749 - accuracy: 0.9344 - val_loss: 0.3627 - val_accuracy: 0.8538 - 4s/epoch - 6ms/step\n",
      "Epoch 8/30\n",
      "625/625 - 4s - loss: 0.1563 - accuracy: 0.9422 - val_loss: 0.3786 - val_accuracy: 0.8554 - 4s/epoch - 7ms/step\n",
      "Epoch 9/30\n",
      "625/625 - 5s - loss: 0.1416 - accuracy: 0.9480 - val_loss: 0.4011 - val_accuracy: 0.8505 - 5s/epoch - 7ms/step\n",
      "Epoch 10/30\n",
      "625/625 - 5s - loss: 0.1273 - accuracy: 0.9546 - val_loss: 0.4229 - val_accuracy: 0.8466 - 5s/epoch - 8ms/step\n",
      "Epoch 11/30\n",
      "625/625 - 6s - loss: 0.1152 - accuracy: 0.9591 - val_loss: 0.4376 - val_accuracy: 0.8501 - 6s/epoch - 9ms/step\n",
      "Epoch 12/30\n",
      "625/625 - 5s - loss: 0.1058 - accuracy: 0.9642 - val_loss: 0.4644 - val_accuracy: 0.8450 - 5s/epoch - 7ms/step\n",
      "Epoch 13/30\n",
      "625/625 - 5s - loss: 0.0969 - accuracy: 0.9674 - val_loss: 0.4909 - val_accuracy: 0.8423 - 5s/epoch - 7ms/step\n",
      "Epoch 14/30\n",
      "625/625 - 4s - loss: 0.0887 - accuracy: 0.9703 - val_loss: 0.5140 - val_accuracy: 0.8422 - 4s/epoch - 6ms/step\n",
      "Epoch 15/30\n",
      "625/625 - 4s - loss: 0.0787 - accuracy: 0.9745 - val_loss: 0.5457 - val_accuracy: 0.8380 - 4s/epoch - 6ms/step\n",
      "Epoch 16/30\n",
      "625/625 - 3s - loss: 0.0742 - accuracy: 0.9765 - val_loss: 0.5834 - val_accuracy: 0.8338 - 3s/epoch - 6ms/step\n",
      "Epoch 17/30\n",
      "625/625 - 4s - loss: 0.0666 - accuracy: 0.9783 - val_loss: 0.6219 - val_accuracy: 0.8310 - 4s/epoch - 7ms/step\n",
      "Epoch 18/30\n",
      "625/625 - 4s - loss: 0.0618 - accuracy: 0.9798 - val_loss: 0.6421 - val_accuracy: 0.8307 - 4s/epoch - 7ms/step\n",
      "Epoch 19/30\n",
      "625/625 - 4s - loss: 0.0557 - accuracy: 0.9834 - val_loss: 0.6816 - val_accuracy: 0.8277 - 4s/epoch - 7ms/step\n",
      "Epoch 20/30\n",
      "625/625 - 4s - loss: 0.0509 - accuracy: 0.9843 - val_loss: 0.7295 - val_accuracy: 0.8253 - 4s/epoch - 7ms/step\n",
      "Epoch 21/30\n",
      "625/625 - 4s - loss: 0.0479 - accuracy: 0.9860 - val_loss: 0.7527 - val_accuracy: 0.8262 - 4s/epoch - 6ms/step\n",
      "Epoch 22/30\n",
      "625/625 - 4s - loss: 0.0443 - accuracy: 0.9858 - val_loss: 0.7876 - val_accuracy: 0.8252 - 4s/epoch - 7ms/step\n",
      "Epoch 23/30\n",
      "625/625 - 4s - loss: 0.0407 - accuracy: 0.9875 - val_loss: 0.8387 - val_accuracy: 0.8204 - 4s/epoch - 6ms/step\n",
      "Epoch 24/30\n",
      "625/625 - 4s - loss: 0.0370 - accuracy: 0.9886 - val_loss: 0.8832 - val_accuracy: 0.8179 - 4s/epoch - 7ms/step\n",
      "Epoch 25/30\n",
      "625/625 - 4s - loss: 0.0336 - accuracy: 0.9901 - val_loss: 0.9081 - val_accuracy: 0.8167 - 4s/epoch - 7ms/step\n",
      "Epoch 26/30\n",
      "625/625 - 4s - loss: 0.0317 - accuracy: 0.9915 - val_loss: 0.9395 - val_accuracy: 0.8161 - 4s/epoch - 6ms/step\n",
      "Epoch 27/30\n",
      "625/625 - 5s - loss: 0.0295 - accuracy: 0.9917 - val_loss: 0.9796 - val_accuracy: 0.8156 - 5s/epoch - 8ms/step\n",
      "Epoch 28/30\n",
      "625/625 - 4s - loss: 0.0257 - accuracy: 0.9931 - val_loss: 1.0545 - val_accuracy: 0.8132 - 4s/epoch - 7ms/step\n",
      "Epoch 29/30\n",
      "625/625 - 4s - loss: 0.0254 - accuracy: 0.9930 - val_loss: 1.0520 - val_accuracy: 0.8144 - 4s/epoch - 7ms/step\n",
      "Epoch 30/30\n",
      "625/625 - 5s - loss: 0.0236 - accuracy: 0.9934 - val_loss: 1.0948 - val_accuracy: 0.8152 - 5s/epoch - 7ms/step\n"
     ]
    }
   ],
   "source": [
    "history = model.fit(training_padded, training_labels, epochs=num_epochs,\n",
    "                   validation_data=(testing_padded, testing_labels), verbose = 2)"
   ]
  },
  {
   "cell_type": "code",
   "execution_count": 25,
   "id": "99382e72",
   "metadata": {},
   "outputs": [
    {
     "data": {
      "image/png": "[encoded data removed]",
      "text/plain": [
       "<Figure size 432x288 with 1 Axes>"
      ]
     },
     "metadata": {
      "needs_background": "light"
     },
     "output_type": "display_data"
    },
    {
     "data": {
      "image/png": "[encoded data removed]",
      "text/plain": [
       "<Figure size 432x288 with 1 Axes>"
      ]
     },
     "metadata": {
      "needs_background": "light"
     },
     "output_type": "display_data"
    }
   ],
   "source": [
    "import matplotlib.pyplot as plt\n",
    "\n",
    "def plot_graphs(history, string):\n",
    "  plt.plot(history.history[string])\n",
    "  plt.plot(history.history['val_'+string])\n",
    "  plt.xlabel(\"Epochs\")\n",
    "  plt.ylabel(string)\n",
    "  plt.legend([string, 'val_'+string])\n",
    "  plt.show()\n",
    "  \n",
    "plot_graphs(history, \"accuracy\")\n",
    "plot_graphs(history, \"loss\")"
   ]
  },
  {
   "cell_type": "code",
   "execution_count": 26,
   "id": "b92f8294",
   "metadata": {},
   "outputs": [
    {
     "name": "stdout",
     "output_type": "stream",
     "text": [
      "former <OOV> store clerk sues over secret 'black <OOV> for minority shoppers ? ? ? ? ? ? ? ? ? ? ? ? ? ? ? ? ? ? ? ? ? ? ? ? ? ? ? ? ? ? ? ? ? ? ? ? ? ? ? ? ? ? ? ? ? ? ? ? ? ? ? ? ? ? ? ? ? ? ? ? ? ? ? ? ? ? ? ? ? ? ? ? ? ? ? ? ? ? ? ? ? ? ? ? ? ? ? ?\n",
      "mom starting to fear son's web series closest thing she will have to grandchild\n",
      "1\n"
     ]
    }
   ],
   "source": [
    "reverse_word_index = dict([(value, key) for (key, value) in word_index.items()])\n",
    "\n",
    "def decode_sentence(text):\n",
    "    return ' '.join([reverse_word_index.get(i, '?') for i in text])\n",
    "\n",
    "print(decode_sentence(training_padded[0]))\n",
    "print(training_sentences[2])\n",
    "print(labels[2])"
   ]
  },
  {
   "cell_type": "code",
   "execution_count": 27,
   "id": "257d45e3",
   "metadata": {},
   "outputs": [
    {
     "name": "stdout",
     "output_type": "stream",
     "text": [
      "(10000, 16)\n"
     ]
    }
   ],
   "source": [
    "e = model.layers[0]\n",
    "weights = e.get_weights()[0]\n",
    "print(weights.shape) # shape: (vocab_size, embedding_dim)"
   ]
  },
  {
   "cell_type": "code",
   "execution_count": 28,
   "id": "3eb6a15a",
   "metadata": {},
   "outputs": [],
   "source": [
    "import io\n",
    "\n",
    "out_v = io.open('vecs.tsv', 'w', encoding='utf-8')\n",
    "out_m = io.open('meta.tsv', 'w', encoding='utf-8')\n",
    "for word_num in range(1, vocab_size):\n",
    "  word = reverse_word_index[word_num]\n",
    "  embeddings = weights[word_num]\n",
    "  out_m.write(word + \"\\n\")\n",
    "  out_v.write('\\t'.join([str(x) for x in embeddings]) + \"\\n\")\n",
    "out_v.close()\n",
    "out_m.close()"
   ]
  },
  {
   "cell_type": "code",
   "execution_count": 35,
   "id": "6cc193d0",
   "metadata": {},
   "outputs": [],
   "source": [
    "sentence = [\n",
    "    'granny starting to fear spiders in the garden might be real',\n",
    "    'the weather today is bright and sunny'\n",
    "]\n",
    "\n",
    "sequences = tokenizer.texts_to_sequences(sentence)\n",
    "\n",
    "padded = pad_sequences(sequences, maxlen=max_length,\n",
    "                      padding=padding_type,truncating= trunc_type)\n"
   ]
  },
  {
   "cell_type": "code",
   "execution_count": 36,
   "id": "b3a98751",
   "metadata": {},
   "outputs": [
    {
     "name": "stdout",
     "output_type": "stream",
     "text": [
      "1/1 [==============================] - 0s 34ms/step\n",
      "[[9.8603004e-01]\n",
      " [8.0695127e-06]]\n"
     ]
    }
   ],
   "source": [
    "print(model.predict(padded))"
   ]
  },
  {
   "cell_type": "code",
   "execution_count": null,
   "id": "ff8ad144",
   "metadata": {},
   "outputs": [],
   "source": []
  }
 ],
 "metadata": {
  "kernelspec": {
   "display_name": "Python 3 (ipykernel)",
   "language": "python",
   "name": "python3"
  },
  "language_info": {
   "codemirror_mode": {
    "name": "ipython",
    "version": 3
   },
   "file_extension": ".py",
   "mimetype": "text/x-python",
   "name": "python",
   "nbconvert_exporter": "python",
   "pygments_lexer": "ipython3",
   "version": "3.8.8"
  }
 },
 "nbformat": 4,
 "nbformat_minor": 5
}
